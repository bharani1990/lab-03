{
 "cells": [
  {
   "cell_type": "code",
   "execution_count": 1,
   "id": "10acba6f-69f2-40f2-b2a8-2cef1190b614",
   "metadata": {
    "tags": []
   },
   "outputs": [],
   "source": [
    "# !pip install psycopg2-binary\n",
    "# !pip install pandas"
   ]
  },
  {
   "cell_type": "code",
   "execution_count": 2,
   "id": "c1ecfc5e-5f00-46d6-b2fa-62db5e524878",
   "metadata": {
    "tags": []
   },
   "outputs": [],
   "source": [
    "import psycopg2\n",
    "import pandas as pd\n",
    "import numpy as np\n",
    "import csv"
   ]
  },
  {
   "cell_type": "code",
   "execution_count": 3,
   "id": "f47226b2-0fd4-4842-8f34-6d2be042bfa5",
   "metadata": {
    "tags": []
   },
   "outputs": [
    {
     "data": {
      "text/plain": [
       "'/home/jovyan/work'"
      ]
     },
     "execution_count": 3,
     "metadata": {},
     "output_type": "execute_result"
    }
   ],
   "source": [
    "pwd"
   ]
  },
  {
   "cell_type": "code",
   "execution_count": 4,
   "id": "58851410-2cac-4a4e-bad4-ba0977b73c15",
   "metadata": {
    "tags": []
   },
   "outputs": [],
   "source": [
    "path_for_data = \"data/ipl_data.csv\""
   ]
  },
  {
   "cell_type": "code",
   "execution_count": 5,
   "id": "24a6b981-de82-4f35-ab0f-e823382bc10b",
   "metadata": {
    "tags": []
   },
   "outputs": [
    {
     "data": {
      "text/html": [
       "<div>\n",
       "<style scoped>\n",
       "    .dataframe tbody tr th:only-of-type {\n",
       "        vertical-align: middle;\n",
       "    }\n",
       "\n",
       "    .dataframe tbody tr th {\n",
       "        vertical-align: top;\n",
       "    }\n",
       "\n",
       "    .dataframe thead th {\n",
       "        text-align: right;\n",
       "    }\n",
       "</style>\n",
       "<table border=\"1\" class=\"dataframe\">\n",
       "  <thead>\n",
       "    <tr style=\"text-align: right;\">\n",
       "      <th></th>\n",
       "      <th>id</th>\n",
       "      <th>home</th>\n",
       "      <th>away</th>\n",
       "      <th>date</th>\n",
       "      <th>match_type</th>\n",
       "      <th>venue</th>\n",
       "      <th>time_of_match</th>\n",
       "      <th>toss</th>\n",
       "      <th>winner</th>\n",
       "      <th>man_of_match</th>\n",
       "      <th>outcome</th>\n",
       "    </tr>\n",
       "  </thead>\n",
       "  <tbody>\n",
       "    <tr>\n",
       "      <th>0</th>\n",
       "      <td>0</td>\n",
       "      <td>Royal Challengers Bangalore</td>\n",
       "      <td>Kolkata Knight Riders</td>\n",
       "      <td>18th April, 2008</td>\n",
       "      <td>league</td>\n",
       "      <td>M Chinnaswamy Stadium, Bengaluru, Bangalore</td>\n",
       "      <td>Day/Night Match</td>\n",
       "      <td>Royal Challengers Bangalore</td>\n",
       "      <td>Kolkata Knight Riders</td>\n",
       "      <td>Brendon McCullum</td>\n",
       "      <td>0</td>\n",
       "    </tr>\n",
       "    <tr>\n",
       "      <th>1</th>\n",
       "      <td>1</td>\n",
       "      <td>Kings XI Punjab</td>\n",
       "      <td>Chennai Super Kings</td>\n",
       "      <td>19th April, 2008</td>\n",
       "      <td>league</td>\n",
       "      <td>Punjab Cricket Association IS Bindra Stadium, ...</td>\n",
       "      <td>Day/Night Match</td>\n",
       "      <td>Chennai Super Kings</td>\n",
       "      <td>Chennai Super Kings</td>\n",
       "      <td>Michael Hussey</td>\n",
       "      <td>0</td>\n",
       "    </tr>\n",
       "    <tr>\n",
       "      <th>2</th>\n",
       "      <td>2</td>\n",
       "      <td>Delhi Daredevils</td>\n",
       "      <td>Rajasthan Royals</td>\n",
       "      <td>19th April, 2008</td>\n",
       "      <td>league</td>\n",
       "      <td>Arun Jaitley Stadium, Delhi</td>\n",
       "      <td>Day/Night Match</td>\n",
       "      <td>Rajasthan Royals</td>\n",
       "      <td>Delhi Daredevils</td>\n",
       "      <td>Farveez Maharoof</td>\n",
       "      <td>1</td>\n",
       "    </tr>\n",
       "    <tr>\n",
       "      <th>3</th>\n",
       "      <td>3</td>\n",
       "      <td>Kolkata Knight Riders</td>\n",
       "      <td>Deccan Chargers</td>\n",
       "      <td>20th April, 2008</td>\n",
       "      <td>league</td>\n",
       "      <td>Eden Gardens, Kolkata</td>\n",
       "      <td>Day/Night Match</td>\n",
       "      <td>Deccan Chargers</td>\n",
       "      <td>Kolkata Knight Riders</td>\n",
       "      <td>David Hussey</td>\n",
       "      <td>1</td>\n",
       "    </tr>\n",
       "    <tr>\n",
       "      <th>4</th>\n",
       "      <td>4</td>\n",
       "      <td>Mumbai Indians</td>\n",
       "      <td>Royal Challengers Bangalore</td>\n",
       "      <td>20th April, 2008</td>\n",
       "      <td>league</td>\n",
       "      <td>Wankhede Stadium, Mumbai</td>\n",
       "      <td>Day/Night Match</td>\n",
       "      <td>Mumbai Indians</td>\n",
       "      <td>Royal Challengers Bangalore</td>\n",
       "      <td>Mark Boucher</td>\n",
       "      <td>0</td>\n",
       "    </tr>\n",
       "  </tbody>\n",
       "</table>\n",
       "</div>"
      ],
      "text/plain": [
       "   id                         home                         away  \\\n",
       "0   0  Royal Challengers Bangalore        Kolkata Knight Riders   \n",
       "1   1              Kings XI Punjab          Chennai Super Kings   \n",
       "2   2             Delhi Daredevils             Rajasthan Royals   \n",
       "3   3        Kolkata Knight Riders              Deccan Chargers   \n",
       "4   4               Mumbai Indians  Royal Challengers Bangalore   \n",
       "\n",
       "               date match_type  \\\n",
       "0  18th April, 2008     league   \n",
       "1  19th April, 2008     league   \n",
       "2  19th April, 2008     league   \n",
       "3  20th April, 2008     league   \n",
       "4  20th April, 2008     league   \n",
       "\n",
       "                                               venue    time_of_match  \\\n",
       "0        M Chinnaswamy Stadium, Bengaluru, Bangalore  Day/Night Match   \n",
       "1  Punjab Cricket Association IS Bindra Stadium, ...  Day/Night Match   \n",
       "2                        Arun Jaitley Stadium, Delhi  Day/Night Match   \n",
       "3                              Eden Gardens, Kolkata  Day/Night Match   \n",
       "4                           Wankhede Stadium, Mumbai  Day/Night Match   \n",
       "\n",
       "                          toss                       winner      man_of_match  \\\n",
       "0  Royal Challengers Bangalore        Kolkata Knight Riders  Brendon McCullum   \n",
       "1          Chennai Super Kings          Chennai Super Kings    Michael Hussey   \n",
       "2             Rajasthan Royals             Delhi Daredevils  Farveez Maharoof   \n",
       "3              Deccan Chargers        Kolkata Knight Riders      David Hussey   \n",
       "4               Mumbai Indians  Royal Challengers Bangalore      Mark Boucher   \n",
       "\n",
       "   outcome  \n",
       "0        0  \n",
       "1        0  \n",
       "2        1  \n",
       "3        1  \n",
       "4        0  "
      ]
     },
     "execution_count": 5,
     "metadata": {},
     "output_type": "execute_result"
    }
   ],
   "source": [
    "df = pd.read_csv(path_for_data)\n",
    "df.head()"
   ]
  },
  {
   "cell_type": "code",
   "execution_count": 6,
   "id": "2ce96b49-519f-4918-b959-11e68840491e",
   "metadata": {
    "tags": []
   },
   "outputs": [
    {
     "data": {
      "text/plain": [
       "id                int64\n",
       "home             object\n",
       "away             object\n",
       "date             object\n",
       "match_type       object\n",
       "venue            object\n",
       "time_of_match    object\n",
       "toss             object\n",
       "winner           object\n",
       "man_of_match     object\n",
       "outcome           int64\n",
       "dtype: object"
      ]
     },
     "execution_count": 6,
     "metadata": {},
     "output_type": "execute_result"
    }
   ],
   "source": [
    "df.dtypes"
   ]
  },
  {
   "cell_type": "code",
   "execution_count": 7,
   "id": "fe64fedf-9630-4103-8533-5ba2d78fc4af",
   "metadata": {
    "tags": []
   },
   "outputs": [
    {
     "name": "stdout",
     "output_type": "stream",
     "text": [
      "('id', 'home', 'away', 'date', 'match_type', 'venue', 'time_of_match', 'toss', 'winner', 'man_of_match', 'outcome')\n"
     ]
    }
   ],
   "source": [
    "col_names = tuple(df.columns)\n",
    "print(col_names)"
   ]
  },
  {
   "cell_type": "code",
   "execution_count": 8,
   "id": "f7a53430-af3e-4393-845b-ee079388516a",
   "metadata": {},
   "outputs": [],
   "source": [
    "# id,home,away,date,match_type,venue,time_of_match,toss,winner,man_of_match,outcome"
   ]
  },
  {
   "cell_type": "code",
   "execution_count": 9,
   "id": "c620c1f3-ce25-4079-962d-9234ceb255eb",
   "metadata": {
    "tags": []
   },
   "outputs": [],
   "source": [
    "conn = psycopg2.connect(database=\"mydb\",\n",
    "                        host=\"db\",\n",
    "                        user=\"myuser\",\n",
    "                        password=\"mypassword\",\n",
    "                        port=\"5432\")\n",
    "\n",
    "cursor = conn.cursor()\n",
    "\n",
    "cursor.execute('DROP TABLE IF EXISTS ipl')\n",
    "\n",
    "cursor.execute(\"\"\"CREATE TABLE IF NOT EXISTS ipl(\n",
    "        id int NOT NULL PRIMARY KEY,\n",
    "        home text,\n",
    "        away text,\n",
    "        date text,\n",
    "        match_type text,\n",
    "        venue text,\n",
    "        time_of_match text,\n",
    "        toss text,\n",
    "        winner text,\n",
    "        man_of_match text,\n",
    "        outcome int\n",
    ")\n",
    "\"\"\")\n",
    "\n"
   ]
  },
  {
   "cell_type": "code",
   "execution_count": 10,
   "id": "1a326f69-5990-4da4-a52e-de15079a0b71",
   "metadata": {
    "tags": []
   },
   "outputs": [],
   "source": [
    "with open(path_for_data) as f:\n",
    "    cursor.copy_expert('COPY ipl(id, home, away, date, match_type, venue, time_of_match, toss, winner, man_of_match, outcome) FROM STDIN WITH HEADER CSV', f)"
   ]
  },
  {
   "cell_type": "code",
   "execution_count": 11,
   "id": "af6f7995-5f37-40c0-9c6a-b153327d3ba8",
   "metadata": {
    "tags": []
   },
   "outputs": [
    {
     "name": "stdout",
     "output_type": "stream",
     "text": [
      "(0, 'Royal Challengers Bangalore', 'Kolkata Knight Riders', '18th April, 2008', 'league', 'M Chinnaswamy Stadium, Bengaluru, Bangalore', 'Day/Night Match', 'Royal Challengers Bangalore', 'Kolkata Knight Riders', 'Brendon McCullum', 0)\n",
      "(1, 'Kings XI Punjab', 'Chennai Super Kings', '19th April, 2008', 'league', 'Punjab Cricket Association IS Bindra Stadium, Mohali, Chandigarh', 'Day/Night Match', 'Chennai Super Kings', 'Chennai Super Kings', 'Michael Hussey', 0)\n",
      "(2, 'Delhi Daredevils', 'Rajasthan Royals', '19th April, 2008', 'league', 'Arun Jaitley Stadium, Delhi', 'Day/Night Match', 'Rajasthan Royals', 'Delhi Daredevils', 'Farveez Maharoof', 1)\n",
      "(3, 'Kolkata Knight Riders', 'Deccan Chargers', '20th April, 2008', 'league', 'Eden Gardens, Kolkata', 'Day/Night Match', 'Deccan Chargers', 'Kolkata Knight Riders', 'David Hussey', 1)\n",
      "(4, 'Mumbai Indians', 'Royal Challengers Bangalore', '20th April, 2008', 'league', 'Wankhede Stadium, Mumbai', 'Day/Night Match', 'Mumbai Indians', 'Royal Challengers Bangalore', 'Mark Boucher', 0)\n"
     ]
    }
   ],
   "source": [
    "sql = '''SELECT * FROM ipl LIMIT 5'''  \n",
    "cursor.execute(sql)\n",
    "for i in cursor.fetchall():\n",
    "    print(i)\n",
    "conn.commit()"
   ]
  },
  {
   "cell_type": "code",
   "execution_count": null,
   "id": "8ed6c793-238e-46df-b4fb-d53779c8778b",
   "metadata": {},
   "outputs": [],
   "source": []
  }
 ],
 "metadata": {
  "kernelspec": {
   "display_name": "Python 3 (ipykernel)",
   "language": "python",
   "name": "python3"
  },
  "language_info": {
   "codemirror_mode": {
    "name": "ipython",
    "version": 3
   },
   "file_extension": ".py",
   "mimetype": "text/x-python",
   "name": "python",
   "nbconvert_exporter": "python",
   "pygments_lexer": "ipython3",
   "version": "3.10.9"
  }
 },
 "nbformat": 4,
 "nbformat_minor": 5
}
