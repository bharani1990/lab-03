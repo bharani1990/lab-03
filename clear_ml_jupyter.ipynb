{
 "cells": [
  {
   "attachments": {},
   "cell_type": "markdown",
   "id": "aa9c3d71-9033-413d-b4c0-aa5ae20bb16a",
   "metadata": {},
   "source": [
    "# Install Libraries"
   ]
  },
  {
   "cell_type": "code",
   "execution_count": 37,
   "id": "8bbc30b0-6efe-47a5-9a7f-14aef3175d2b",
   "metadata": {
    "tags": []
   },
   "outputs": [],
   "source": [
    "# !pip install clearml\n",
    "# !pip install xgbimport psutiloost\n",
    "# !pip install pandas\n",
    "# !pip install scikit-learn\n",
    "# !pip install matplotlib\n",
    "# !pip install torch"
   ]
  },
  {
   "cell_type": "code",
   "execution_count": 35,
   "id": "1f391431-d93a-43d6-8617-3de8820f9eb9",
   "metadata": {
    "tags": []
   },
   "outputs": [],
   "source": [
    "import psutil"
   ]
  },
  {
   "cell_type": "code",
   "execution_count": 36,
   "id": "95b9d49a-2208-4228-bbe4-f80a174f2a3a",
   "metadata": {
    "tags": []
   },
   "outputs": [
    {
     "name": "stdout",
     "output_type": "stream",
     "text": [
      "Total disk size: 15758004224 bytes\n",
      "Used disk space: 14515052544 bytes\n",
      "Free disk space: 528498688 bytes\n"
     ]
    }
   ],
   "source": [
    "disk_usage = psutil.disk_usage('/')\n",
    "total_size = disk_usage.total\n",
    "used_size = disk_usage.used\n",
    "free_size = disk_usage.free\n",
    "\n",
    "print(f\"Total disk size: {total_size} bytes\")\n",
    "print(f\"Used disk space: {used_size} bytes\")\n",
    "print(f\"Free disk space: {free_size} bytes\")"
   ]
  },
  {
   "attachments": {},
   "cell_type": "markdown",
   "id": "f548a646-a46d-4a45-9228-0719afea8c28",
   "metadata": {},
   "source": [
    "# Imports"
   ]
  },
  {
   "cell_type": "code",
   "execution_count": 33,
   "id": "c1e42ff7-50b6-4bfd-ab0e-1502e8b0366f",
   "metadata": {
    "tags": []
   },
   "outputs": [
    {
     "ename": "ModuleNotFoundError",
     "evalue": "No module named 'torch'",
     "output_type": "error",
     "traceback": [
      "\u001b[0;31m---------------------------------------------------------------------------\u001b[0m",
      "\u001b[0;31mModuleNotFoundError\u001b[0m                       Traceback (most recent call last)",
      "Cell \u001b[0;32mIn[33], line 9\u001b[0m\n\u001b[1;32m      7\u001b[0m \u001b[38;5;28;01mfrom\u001b[39;00m \u001b[38;5;21;01msklearn\u001b[39;00m\u001b[38;5;21;01m.\u001b[39;00m\u001b[38;5;21;01mmetrics\u001b[39;00m \u001b[38;5;28;01mimport\u001b[39;00m confusion_matrix, ConfusionMatrixDisplay\n\u001b[1;32m      8\u001b[0m \u001b[38;5;28;01mimport\u001b[39;00m \u001b[38;5;21;01mjoblib\u001b[39;00m\n\u001b[0;32m----> 9\u001b[0m \u001b[38;5;28;01mimport\u001b[39;00m \u001b[38;5;21;01mtorch\u001b[39;00m\n\u001b[1;32m     10\u001b[0m \u001b[38;5;28;01mimport\u001b[39;00m \u001b[38;5;21;01mtorch\u001b[39;00m\u001b[38;5;21;01m.\u001b[39;00m\u001b[38;5;21;01mnn\u001b[39;00m \u001b[38;5;28;01mas\u001b[39;00m \u001b[38;5;21;01mnn\u001b[39;00m\n\u001b[1;32m     11\u001b[0m \u001b[38;5;28;01mimport\u001b[39;00m \u001b[38;5;21;01mtorch\u001b[39;00m\u001b[38;5;21;01m.\u001b[39;00m\u001b[38;5;21;01moptim\u001b[39;00m \u001b[38;5;28;01mas\u001b[39;00m \u001b[38;5;21;01moptim\u001b[39;00m\n",
      "File \u001b[0;32m/opt/conda/lib/python3.10/site-packages/clearml/binding/import_bind.py:54\u001b[0m, in \u001b[0;36mPostImportHookPatching.__patched_import3\u001b[0;34m(name, globals, locals, fromlist, level)\u001b[0m\n\u001b[1;32m     52\u001b[0m base_already_imported \u001b[38;5;241m=\u001b[39m (\u001b[38;5;129;01mnot\u001b[39;00m base_name) \u001b[38;5;129;01mor\u001b[39;00m (base_name \u001b[38;5;129;01min\u001b[39;00m sys\u001b[38;5;241m.\u001b[39mmodules)\n\u001b[1;32m     53\u001b[0m second_already_imported \u001b[38;5;241m=\u001b[39m (\u001b[38;5;129;01mnot\u001b[39;00m second_name) \u001b[38;5;129;01mor\u001b[39;00m (second_name \u001b[38;5;129;01min\u001b[39;00m sys\u001b[38;5;241m.\u001b[39mmodules)\n\u001b[0;32m---> 54\u001b[0m mod \u001b[38;5;241m=\u001b[39m \u001b[43mbuiltins\u001b[49m\u001b[38;5;241;43m.\u001b[39;49m\u001b[43m__org_import__\u001b[49m\u001b[43m(\u001b[49m\n\u001b[1;32m     55\u001b[0m \u001b[43m    \u001b[49m\u001b[43mname\u001b[49m\u001b[43m,\u001b[49m\n\u001b[1;32m     56\u001b[0m \u001b[43m    \u001b[49m\u001b[38;5;28;43mglobals\u001b[39;49m\u001b[38;5;241;43m=\u001b[39;49m\u001b[38;5;28;43mglobals\u001b[39;49m\u001b[43m,\u001b[49m\n\u001b[1;32m     57\u001b[0m \u001b[43m    \u001b[49m\u001b[38;5;28;43mlocals\u001b[39;49m\u001b[38;5;241;43m=\u001b[39;49m\u001b[38;5;28;43mlocals\u001b[39;49m\u001b[43m,\u001b[49m\n\u001b[1;32m     58\u001b[0m \u001b[43m    \u001b[49m\u001b[43mfromlist\u001b[49m\u001b[38;5;241;43m=\u001b[39;49m\u001b[43mfromlist\u001b[49m\u001b[43m,\u001b[49m\n\u001b[1;32m     59\u001b[0m \u001b[43m    \u001b[49m\u001b[43mlevel\u001b[49m\u001b[38;5;241;43m=\u001b[39;49m\u001b[43mlevel\u001b[49m\u001b[43m)\u001b[49m\n\u001b[1;32m     60\u001b[0m \u001b[38;5;28;01mif\u001b[39;00m \u001b[38;5;129;01mnot\u001b[39;00m base_already_imported \u001b[38;5;129;01mand\u001b[39;00m base_name \u001b[38;5;129;01min\u001b[39;00m PostImportHookPatching\u001b[38;5;241m.\u001b[39m_post_import_hooks:\n\u001b[1;32m     61\u001b[0m     \u001b[38;5;28;01mfor\u001b[39;00m hook \u001b[38;5;129;01min\u001b[39;00m PostImportHookPatching\u001b[38;5;241m.\u001b[39m_post_import_hooks[base_name]:\n",
      "\u001b[0;31mModuleNotFoundError\u001b[0m: No module named 'torch'"
     ]
    }
   ],
   "source": [
    "import clearml\n",
    "import xgboost as xgb\n",
    "import numpy as np\n",
    "import pandas as pd\n",
    "from sklearn.model_selection import train_test_split\n",
    "from sklearn.metrics import accuracy_score\n",
    "from sklearn.metrics import confusion_matrix, ConfusionMatrixDisplay\n",
    "import joblib\n",
    "import torch\n",
    "import torch.nn as nn\n",
    "import torch.optim as optim\n",
    "from torch.utils.data import Dataset, DataLoader\n",
    "import matplotlib.pyplot as plt\n",
    "%matplotlib inline"
   ]
  },
  {
   "attachments": {},
   "cell_type": "markdown",
   "id": "f714b4c8-2035-43b6-946a-ba5c382f42e1",
   "metadata": {},
   "source": [
    "# Create ClearML Project"
   ]
  },
  {
   "cell_type": "code",
   "execution_count": 3,
   "id": "3016681c-7264-402c-b447-268e84bb8d2d",
   "metadata": {
    "tags": []
   },
   "outputs": [
    {
     "name": "stdout",
     "output_type": "stream",
     "text": [
      "env: CLEARML_WEB_HOST=https://app.clear.ml\n",
      "env: CLEARML_API_HOST=https://api.clear.ml\n",
      "env: CLEARML_FILES_HOST=https://files.clear.ml\n",
      "env: CLEARML_API_ACCESS_KEY=CEXP8BVY587LDKN4L2N6\n",
      "env: CLEARML_API_SECRET_KEY=QzzgTEb2qDtZTg8JwPPXVSe4lMiMQiGJjFTwanDuIqimPJjwhR\n"
     ]
    }
   ],
   "source": [
    "%env CLEARML_WEB_HOST=https://app.clear.ml\n",
    "%env CLEARML_API_HOST=https://api.clear.ml\n",
    "%env CLEARML_FILES_HOST=https://files.clear.ml\n",
    "%env CLEARML_API_ACCESS_KEY=CEXP8BVY587LDKN4L2N6\n",
    "%env CLEARML_API_SECRET_KEY=QzzgTEb2qDtZTg8JwPPXVSe4lMiMQiGJjFTwanDuIqimPJjwhR"
   ]
  },
  {
   "cell_type": "code",
   "execution_count": 4,
   "id": "0887e65d-ed9b-4ebb-809e-1484fcbbcc73",
   "metadata": {
    "tags": []
   },
   "outputs": [],
   "source": [
    "clearml.browser_login()"
   ]
  },
  {
   "cell_type": "code",
   "execution_count": 5,
   "id": "a58d6b03-d7bd-49c6-830a-f03c44069e37",
   "metadata": {
    "tags": []
   },
   "outputs": [],
   "source": [
    "from clearml import Task"
   ]
  },
  {
   "attachments": {},
   "cell_type": "markdown",
   "id": "a24c2e6d-f52f-4c2f-9a1a-76e8445f1208",
   "metadata": {},
   "source": [
    "# Machine Learning"
   ]
  },
  {
   "attachments": {},
   "cell_type": "markdown",
   "id": "0737ba00-2d7c-4d3b-abfe-00fdfecee83e",
   "metadata": {},
   "source": [
    "## Create ClearML Task"
   ]
  },
  {
   "cell_type": "code",
   "execution_count": 13,
   "id": "9ffed0c1-4ed5-4dbc-a627-c0ee2408d11b",
   "metadata": {
    "tags": []
   },
   "outputs": [
    {
     "name": "stdout",
     "output_type": "stream",
     "text": [
      "ClearML Task: created new task id=e2932a0841e947a7af568b2fd50e4d34\n",
      "ClearML results page: https://app.clear.ml/projects/ed74f016950a48ea96a7b667648d4a7c/experiments/e2932a0841e947a7af568b2fd50e4d34/output/log\n",
      "ClearML Monitor: GPU monitoring failed getting GPU reading, switching off GPU monitoring\n"
     ]
    }
   ],
   "source": [
    "task = Task.init(project_name=\"lab_03_devops\", \n",
    "                 task_name=\"xgb_cricket_prediction\", \n",
    "                 output_uri=True)"
   ]
  },
  {
   "cell_type": "code",
   "execution_count": 14,
   "id": "da712f5b-1f49-4423-a2a9-5a9eda15b944",
   "metadata": {
    "tags": []
   },
   "outputs": [],
   "source": [
    "all_projects = Task.get_projects()"
   ]
  },
  {
   "cell_type": "code",
   "execution_count": 15,
   "id": "3fbf35f7-d602-4a2b-847f-bdfc98a80634",
   "metadata": {
    "tags": []
   },
   "outputs": [
    {
     "data": {
      "text/plain": [
       "list"
      ]
     },
     "execution_count": 15,
     "metadata": {},
     "output_type": "execute_result"
    }
   ],
   "source": [
    "type(all_projects)"
   ]
  },
  {
   "cell_type": "code",
   "execution_count": 16,
   "id": "ec4cfa50-723c-4daf-84f6-ac36dbeaa3d7",
   "metadata": {
    "tags": []
   },
   "outputs": [
    {
     "name": "stdout",
     "output_type": "stream",
     "text": [
      "<projects.Project: {\n",
      "    \"id\": \"ed74f016950a48ea96a7b667648d4a7c\",\n",
      "    \"name\": \"lab_03_devops\",\n",
      "    \"basename\": \"lab_03_devops\",\n",
      "    \"description\": \"# Cricket_Match_Outcome_Predictioon\\n## Steps\",\n",
      "    \"user\": \"99c0427d647d48d9a72ce56bb0e511b5\",\n",
      "    \"company\": \"c4a3a246af4a4e28ba4683ae2352b187\",\n",
      "    \"created\": \"2023-05-24 15:20:47.122000+00:00\",\n",
      "    \"tags\": [],\n",
      "    \"system_tags\": [],\n",
      "    \"last_update\": \"2023-05-24 17:01:27.914000+00:00\"\n",
      "}>\n"
     ]
    }
   ],
   "source": [
    "lab_03_devops_project = all_projects[-1]\n",
    "print(lab_03_devops_project)"
   ]
  },
  {
   "attachments": {},
   "cell_type": "markdown",
   "id": "2f53a2df-2383-493f-8df7-d72fb749cab4",
   "metadata": {
    "tags": []
   },
   "source": [
    "## Get Data"
   ]
  },
  {
   "cell_type": "code",
   "execution_count": 17,
   "id": "35768fff-abec-49b1-9cd7-ba6a78679df0",
   "metadata": {
    "tags": []
   },
   "outputs": [],
   "source": [
    "ipl_df = pd.read_csv('data/ipl_data.csv', low_memory=True)\n",
    "ipl_df.drop(['id'], axis=1, inplace=True)"
   ]
  },
  {
   "cell_type": "code",
   "execution_count": 18,
   "id": "02b8f9d4-952d-41e0-bf46-e0bfd23df501",
   "metadata": {
    "tags": []
   },
   "outputs": [
    {
     "name": "stdout",
     "output_type": "stream",
     "text": [
      "(958, 10) Index(['home', 'away', 'date', 'match_type', 'venue', 'time_of_match', 'toss',\n",
      "       'winner', 'man_of_match', 'outcome'],\n",
      "      dtype='object')\n"
     ]
    }
   ],
   "source": [
    "print(ipl_df.shape, ipl_df.columns)"
   ]
  },
  {
   "cell_type": "code",
   "execution_count": 19,
   "id": "d57dd76b-0833-4a8b-80b5-a64d6d583364",
   "metadata": {
    "tags": []
   },
   "outputs": [
    {
     "data": {
      "text/html": [
       "<div>\n",
       "<style scoped>\n",
       "    .dataframe tbody tr th:only-of-type {\n",
       "        vertical-align: middle;\n",
       "    }\n",
       "\n",
       "    .dataframe tbody tr th {\n",
       "        vertical-align: top;\n",
       "    }\n",
       "\n",
       "    .dataframe thead th {\n",
       "        text-align: right;\n",
       "    }\n",
       "</style>\n",
       "<table border=\"1\" class=\"dataframe\">\n",
       "  <thead>\n",
       "    <tr style=\"text-align: right;\">\n",
       "      <th></th>\n",
       "      <th>home</th>\n",
       "      <th>away</th>\n",
       "      <th>date</th>\n",
       "      <th>match_type</th>\n",
       "      <th>venue</th>\n",
       "      <th>time_of_match</th>\n",
       "      <th>toss</th>\n",
       "      <th>winner</th>\n",
       "      <th>man_of_match</th>\n",
       "      <th>outcome</th>\n",
       "    </tr>\n",
       "  </thead>\n",
       "  <tbody>\n",
       "    <tr>\n",
       "      <th>0</th>\n",
       "      <td>Royal Challengers Bangalore</td>\n",
       "      <td>Kolkata Knight Riders</td>\n",
       "      <td>18th April, 2008</td>\n",
       "      <td>league</td>\n",
       "      <td>M Chinnaswamy Stadium, Bengaluru, Bangalore</td>\n",
       "      <td>Day/Night Match</td>\n",
       "      <td>Royal Challengers Bangalore</td>\n",
       "      <td>Kolkata Knight Riders</td>\n",
       "      <td>Brendon McCullum</td>\n",
       "      <td>0</td>\n",
       "    </tr>\n",
       "    <tr>\n",
       "      <th>1</th>\n",
       "      <td>Kings XI Punjab</td>\n",
       "      <td>Chennai Super Kings</td>\n",
       "      <td>19th April, 2008</td>\n",
       "      <td>league</td>\n",
       "      <td>Punjab Cricket Association IS Bindra Stadium, ...</td>\n",
       "      <td>Day/Night Match</td>\n",
       "      <td>Chennai Super Kings</td>\n",
       "      <td>Chennai Super Kings</td>\n",
       "      <td>Michael Hussey</td>\n",
       "      <td>0</td>\n",
       "    </tr>\n",
       "    <tr>\n",
       "      <th>2</th>\n",
       "      <td>Delhi Daredevils</td>\n",
       "      <td>Rajasthan Royals</td>\n",
       "      <td>19th April, 2008</td>\n",
       "      <td>league</td>\n",
       "      <td>Arun Jaitley Stadium, Delhi</td>\n",
       "      <td>Day/Night Match</td>\n",
       "      <td>Rajasthan Royals</td>\n",
       "      <td>Delhi Daredevils</td>\n",
       "      <td>Farveez Maharoof</td>\n",
       "      <td>1</td>\n",
       "    </tr>\n",
       "    <tr>\n",
       "      <th>3</th>\n",
       "      <td>Kolkata Knight Riders</td>\n",
       "      <td>Deccan Chargers</td>\n",
       "      <td>20th April, 2008</td>\n",
       "      <td>league</td>\n",
       "      <td>Eden Gardens, Kolkata</td>\n",
       "      <td>Day/Night Match</td>\n",
       "      <td>Deccan Chargers</td>\n",
       "      <td>Kolkata Knight Riders</td>\n",
       "      <td>David Hussey</td>\n",
       "      <td>1</td>\n",
       "    </tr>\n",
       "    <tr>\n",
       "      <th>4</th>\n",
       "      <td>Mumbai Indians</td>\n",
       "      <td>Royal Challengers Bangalore</td>\n",
       "      <td>20th April, 2008</td>\n",
       "      <td>league</td>\n",
       "      <td>Wankhede Stadium, Mumbai</td>\n",
       "      <td>Day/Night Match</td>\n",
       "      <td>Mumbai Indians</td>\n",
       "      <td>Royal Challengers Bangalore</td>\n",
       "      <td>Mark Boucher</td>\n",
       "      <td>0</td>\n",
       "    </tr>\n",
       "  </tbody>\n",
       "</table>\n",
       "</div>"
      ],
      "text/plain": [
       "                          home                         away              date   \n",
       "0  Royal Challengers Bangalore        Kolkata Knight Riders  18th April, 2008  \\\n",
       "1              Kings XI Punjab          Chennai Super Kings  19th April, 2008   \n",
       "2             Delhi Daredevils             Rajasthan Royals  19th April, 2008   \n",
       "3        Kolkata Knight Riders              Deccan Chargers  20th April, 2008   \n",
       "4               Mumbai Indians  Royal Challengers Bangalore  20th April, 2008   \n",
       "\n",
       "  match_type                                              venue   \n",
       "0     league        M Chinnaswamy Stadium, Bengaluru, Bangalore  \\\n",
       "1     league  Punjab Cricket Association IS Bindra Stadium, ...   \n",
       "2     league                        Arun Jaitley Stadium, Delhi   \n",
       "3     league                              Eden Gardens, Kolkata   \n",
       "4     league                           Wankhede Stadium, Mumbai   \n",
       "\n",
       "     time_of_match                         toss                       winner   \n",
       "0  Day/Night Match  Royal Challengers Bangalore        Kolkata Knight Riders  \\\n",
       "1  Day/Night Match          Chennai Super Kings          Chennai Super Kings   \n",
       "2  Day/Night Match             Rajasthan Royals             Delhi Daredevils   \n",
       "3  Day/Night Match              Deccan Chargers        Kolkata Knight Riders   \n",
       "4  Day/Night Match               Mumbai Indians  Royal Challengers Bangalore   \n",
       "\n",
       "       man_of_match  outcome  \n",
       "0  Brendon McCullum        0  \n",
       "1    Michael Hussey        0  \n",
       "2  Farveez Maharoof        1  \n",
       "3      David Hussey        1  \n",
       "4      Mark Boucher        0  "
      ]
     },
     "execution_count": 19,
     "metadata": {},
     "output_type": "execute_result"
    }
   ],
   "source": [
    "ipl_df.head(5)"
   ]
  },
  {
   "cell_type": "code",
   "execution_count": 20,
   "id": "01d10454-141c-437b-8ca2-dce7d10ce53c",
   "metadata": {
    "tags": []
   },
   "outputs": [
    {
     "data": {
      "text/plain": [
       "home             object\n",
       "away             object\n",
       "date             object\n",
       "match_type       object\n",
       "venue            object\n",
       "time_of_match    object\n",
       "toss             object\n",
       "winner           object\n",
       "man_of_match     object\n",
       "outcome           int64\n",
       "dtype: object"
      ]
     },
     "execution_count": 20,
     "metadata": {},
     "output_type": "execute_result"
    }
   ],
   "source": [
    "ipl_df.dtypes"
   ]
  },
  {
   "cell_type": "code",
   "execution_count": 21,
   "id": "efdd1133-6d81-4b0e-9d4c-35657ff8eb06",
   "metadata": {
    "tags": []
   },
   "outputs": [],
   "source": [
    "cols_to_convert_to_category = ipl_df.columns[:-1]"
   ]
  },
  {
   "cell_type": "code",
   "execution_count": 22,
   "id": "8473b706-23f0-49e1-b65c-48f423edb1b2",
   "metadata": {
    "tags": []
   },
   "outputs": [],
   "source": [
    "ipl_df[cols_to_convert_to_category] = ipl_df[cols_to_convert_to_category].astype('category')"
   ]
  },
  {
   "attachments": {},
   "cell_type": "markdown",
   "id": "c6aac991-223f-4feb-98f6-b547bb09aa17",
   "metadata": {},
   "source": [
    "## Train Test Split"
   ]
  },
  {
   "cell_type": "code",
   "execution_count": 23,
   "id": "821e645a-f89f-4156-bebc-550cce5a9a07",
   "metadata": {
    "tags": []
   },
   "outputs": [],
   "source": [
    "X = ipl_df.drop(['outcome'], axis=1)\n",
    "y = ipl_df['outcome']"
   ]
  },
  {
   "cell_type": "code",
   "execution_count": 24,
   "id": "f440c9a5-d04d-4fd2-bb59-02fe64583eae",
   "metadata": {
    "tags": []
   },
   "outputs": [],
   "source": [
    "X_train, X_test, y_train, y_test = train_test_split(X, y, test_size=0.2, random_state=42)"
   ]
  },
  {
   "cell_type": "code",
   "execution_count": 25,
   "id": "09681c42-67ac-464a-97b0-423ea92a0a6f",
   "metadata": {
    "tags": []
   },
   "outputs": [],
   "source": [
    "data_train_matrix = xgb.DMatrix(X_train, label=y_train, enable_categorical=True)\n",
    "data_test_matrix = xgb.DMatrix(X_test, label=y_test, enable_categorical=True)"
   ]
  },
  {
   "attachments": {},
   "cell_type": "markdown",
   "id": "1fdf19d4-b4c0-4452-95d0-0ff3eba72593",
   "metadata": {},
   "source": [
    "## Basic Logging into ClearML for XGB Classifier"
   ]
  },
  {
   "cell_type": "code",
   "execution_count": 26,
   "id": "0f9307ab-1cb3-4b31-ad7e-efdef471f16e",
   "metadata": {
    "tags": []
   },
   "outputs": [],
   "source": [
    "params = {\n",
    "    'max_depth': 2,\n",
    "    'eta': 1,\n",
    "    'objective': 'binary:logistic',\n",
    "    'nthread': 4,\n",
    "    'eval_metric': 'logloss',\n",
    "}"
   ]
  },
  {
   "cell_type": "code",
   "execution_count": 27,
   "id": "f13d01b9-9c86-4228-b4de-98804d3c4a78",
   "metadata": {
    "tags": []
   },
   "outputs": [
    {
     "data": {
      "text/plain": [
       "{'max_depth': 2,\n",
       " 'eta': 1,\n",
       " 'objective': 'binary:logistic',\n",
       " 'nthread': 4,\n",
       " 'eval_metric': 'logloss'}"
      ]
     },
     "execution_count": 27,
     "metadata": {},
     "output_type": "execute_result"
    }
   ],
   "source": [
    "task.connect(params)"
   ]
  },
  {
   "cell_type": "code",
   "execution_count": 28,
   "id": "1360b9ba-e8a3-49a7-a426-e4ec48f5b5eb",
   "metadata": {
    "tags": []
   },
   "outputs": [],
   "source": [
    "xgb_model =xgb.train(\n",
    "        params,\n",
    "        data_train_matrix,\n",
    "        num_boost_round=150,\n",
    "        evals=[(data_train_matrix, \"train\"), (data_test_matrix, \"test\")],\n",
    "        verbose_eval=0,\n",
    ")\n",
    "xgb_model.save_model(\"best_model\")"
   ]
  },
  {
   "cell_type": "code",
   "execution_count": 29,
   "id": "540eceed-ec56-454f-8fa7-33d8e82f60b4",
   "metadata": {
    "tags": []
   },
   "outputs": [
    {
     "name": "stdout",
     "output_type": "stream",
     "text": [
      "accuracy = 0.974\n"
     ]
    },
    {
     "data": {
      "image/png": "[encoded data removed]",
      "text/plain": [
       "<Figure size 640x480 with 2 Axes>"
      ]
     },
     "metadata": {},
     "output_type": "display_data"
    }
   ],
   "source": [
    "y_pred_probas = xgb_model.predict(data_test_matrix)\n",
    "y_pred = [1 if p > 0.5 else 0 for p in y_pred_probas]\n",
    "accuracy = accuracy_score(y_test, y_pred)\n",
    "print(f\"accuracy = {round(accuracy, 3)}\")\n",
    "cm = confusion_matrix(y_test, y_pred)\n",
    "plt.title(\"Confusion Matrix\")\n",
    "ConfusionMatrixDisplay(cm).plot(ax=plt.gca())\n",
    "task.close()"
   ]
  },
  {
   "attachments": {},
   "cell_type": "markdown",
   "id": "937e1910-5b47-4932-b096-3cc89459b69e",
   "metadata": {},
   "source": [
    "# Deep Learning with Tensorboard and Pytorch"
   ]
  },
  {
   "cell_type": "code",
   "execution_count": null,
   "id": "5654fd88-92e4-4ac1-956c-7d98e7adeb9e",
   "metadata": {},
   "outputs": [],
   "source": [
    "task = Task.init(project_name=\"Getting Started\", task_name=\"TB Logging\")"
   ]
  },
  {
   "cell_type": "code",
   "execution_count": 10,
   "id": "5bde7e50-aadf-4691-bdf9-cebb6fa62be6",
   "metadata": {
    "tags": []
   },
   "outputs": [
    {
     "name": "stdout",
     "output_type": "stream",
     "text": [
      "2023-05-24 17:00:09,921 - clearml.Task - WARNING - Task cdf58eaa9d1e445182f5a38ad730a289 was reset! if state is consistent we shall terminate.\n",
      "2023-05-24 17:00:12,449 - clearml.Task - WARNING - Task cdf58eaa9d1e445182f5a38ad730a289 was reset! if state is consistent we shall terminate.\n"
     ]
    },
    {
     "data": {
      "text/plain": [
       "<clearml.backend_api.session.callresult.CallResult at 0x7f4d307af160>"
      ]
     },
     "execution_count": 10,
     "metadata": {},
     "output_type": "execute_result"
    }
   ],
   "source": [
    "Task.get_task('cdf58eaa9d1e445182f5a38ad730a289').delete()"
   ]
  },
  {
   "cell_type": "code",
   "execution_count": null,
   "id": "20ed9a8a-0c78-4332-b879-bed5a43d2b70",
   "metadata": {},
   "outputs": [],
   "source": [
    "import pandas as pd\n",
    "\n",
    "from sklearn.model_selection import train_test_split\n",
    "\n",
    "# Define the custom dataset class\n",
    "class CustomDataset(Dataset):\n",
    "    def __init__(self, data, labels):\n",
    "        self.data = torch.FloatTensor(data.values)\n",
    "        self.labels = torch.FloatTensor(labels.values)\n",
    "\n",
    "    def __getitem__(self, index):\n",
    "        return self.data[index], self.labels[index]\n",
    "\n",
    "    def __len__(self):\n",
    "        return len(self.data)\n",
    "\n",
    "# Set the hyperparameters\n",
    "input_size = 9  # Number of input features\n",
    "hidden_size = 16  # Number of units in the hidden layer\n",
    "learning_rate = 0.001\n",
    "batch_size = 32\n",
    "num_epochs = 10\n",
    "\n",
    "# Split the data into training and validation sets\n",
    "train_df, val_df = train_test_split(df, test_size=0.2, random_state=42)\n",
    "\n",
    "# Separate the features and labels\n",
    "X_train = train_df.iloc[:, :-1]\n",
    "y_train = train_df.iloc[:, -1]\n",
    "X_val = val_df.iloc[:, :-1]\n",
    "y_val = val_df.iloc[:, -1]\n",
    "\n",
    "# Instantiate the datasets and dataloaders\n",
    "train_dataset = CustomDataset(X_train, y_train)\n",
    "val_dataset = CustomDataset(X_val, y_val)\n",
    "train_dataloader = DataLoader(train_dataset, batch_size=batch_size, shuffle=True)\n",
    "val_dataloader = DataLoader(val_dataset, batch_size=batch_size)\n",
    "\n",
    "# Define the neural network architecture\n",
    "class BinaryClassificationNN(nn.Module):\n",
    "    def __init__(self, input_size, hidden_size, dropout_rate=0.5):\n",
    "        super(BinaryClassificationNN, self).__init__()\n",
    "        self.fc1 = nn.Linear(input_size, hidden_size)\n",
    "        self.dropout = nn.Dropout(dropout_rate)\n",
    "        self.fc2 = nn.Linear(hidden_size, 1)\n",
    "        self.sigmoid = nn.Sigmoid()\n",
    "\n",
    "    def forward(self, x):\n",
    "        x = self.fc1(x)\n",
    "        x = torch.relu(x)\n",
    "        x = self.dropout(x)\n",
    "        x = self.fc2(x)\n",
    "        x = self.sigmoid(x)\n",
    "        return x\n",
    "\n",
    "# Instantiate the model\n",
    "model = BinaryClassificationNN(input_size, hidden_size)\n",
    "\n",
    "# Define the loss function and optimizer\n",
    "criterion = nn.BCELoss()\n",
    "optimizer = optim.Adam(model.parameters(), lr=learning_rate)\n",
    "\n",
    "# Perform the training loop\n",
    "for epoch in range(num_epochs):\n",
    "    model.train()\n",
    "    train_loss = 0.0\n",
    "    for inputs, labels in train_dataloader:\n",
    "        # Forward pass\n",
    "        outputs = model(inputs)\n",
    "        loss = criterion(outputs.squeeze(), labels)\n",
    "\n",
    "        # Backward and optimize\n",
    "        optimizer.zero_grad()\n",
    "        loss.backward()\n",
    "        optimizer.step()\n",
    "\n",
    "        train_loss += loss.item()\n",
    "\n",
    "    # Compute the training accuracy\n",
    "    model.eval()\n",
    "    with torch.no_grad():\n",
    "        train_predictions = model(torch.FloatTensor(X_train))\n",
    "        train_predictions = train_predictions.round().squeeze()\n",
    "        train_accuracy = (train_predictions == y_train).sum().item() / len(y_train)\n",
    "\n",
    "        val_loss = 0.0\n",
    "        val_correct = 0\n",
    "        val_total = 0\n",
    "        for inputs, labels in val_dataloader:\n",
    "            val_outputs = model(inputs)\n",
    "            val_loss += criterion(val_outputs.squeeze(), labels).item()\n",
    "\n",
    "            val_predictions = val_outputs.round().squeeze()\n",
    "            val_correct += (val_predictions == labels).sum().item()\n",
    "            val_total += len(labels)\n",
    "\n",
    "    # Compute the validation accuracy\n",
    "    val_accuracy\n"
   ]
  }
 ],
 "metadata": {
  "kernelspec": {
   "display_name": "Python 3 (ipykernel)",
   "language": "python",
   "name": "python3"
  },
  "language_info": {
   "codemirror_mode": {
    "name": "ipython",
    "version": 3
   },
   "file_extension": ".py",
   "mimetype": "text/x-python",
   "name": "python",
   "nbconvert_exporter": "python",
   "pygments_lexer": "ipython3",
   "version": "3.10.9"
  }
 },
 "nbformat": 4,
 "nbformat_minor": 5
}
